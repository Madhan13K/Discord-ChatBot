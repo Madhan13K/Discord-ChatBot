{
  "nbformat": 4,
  "nbformat_minor": 0,
  "metadata": {
    "colab": {
      "name": "parse_script.ipynb",
      "provenance": [],
      "authorship_tag": "ABX9TyNjim95/pjbUs7Wfhy1O5ET",
      "include_colab_link": true
    },
    "kernelspec": {
      "name": "python3",
      "display_name": "Python 3"
    },
    "language_info": {
      "name": "python"
    }
  },
  "cells": [
    {
      "cell_type": "markdown",
      "metadata": {
        "id": "view-in-github",
        "colab_type": "text"
      },
      "source": [
        "<a href=\"https://colab.research.google.com/github/Madhan13K/Discord-ChatBot/blob/main/parse_script.ipynb\" target=\"_parent\"><img src=\"https://colab.research.google.com/assets/colab-badge.svg\" alt=\"Open In Colab\"/></a>"
      ]
    },
    {
      "cell_type": "code",
      "metadata": {
        "colab": {
          "base_uri": "https://localhost:8080/"
        },
        "id": "CEjG0Ca2xFTM",
        "outputId": "dde12dab-e963-4aad-8734-40c2089b7641"
      },
      "source": [
        "from google.colab import drive\n",
        "drive.mount('/content/drive')"
      ],
      "execution_count": null,
      "outputs": [
        {
          "output_type": "stream",
          "text": [
            "Mounted at /content/drive\n"
          ],
          "name": "stdout"
        }
      ]
    },
    {
      "cell_type": "code",
      "metadata": {
        "id": "TTXJNwD7zH1n"
      },
      "source": [
        "import os\n",
        "os.chdir('/content/drive/My Drive/discod')"
      ],
      "execution_count": null,
      "outputs": []
    },
    {
      "cell_type": "code",
      "metadata": {
        "id": "mkp_F-QlzWxp"
      },
      "source": [
        "\n",
        "import re\n",
        "import pandas as pd\n"
      ],
      "execution_count": null,
      "outputs": []
    },
    {
      "cell_type": "code",
      "metadata": {
        "id": "yTciOw7nzd4g"
      },
      "source": [
        "pattern=r'([a-zA-Z\\s]+):(.+)'"
      ],
      "execution_count": null,
      "outputs": []
    },
    {
      "cell_type": "code",
      "metadata": {
        "id": "pSrFMTqKzxAx"
      },
      "source": [
        "data={'name':[],\n",
        "      'line':[]\n",
        "      }"
      ],
      "execution_count": null,
      "outputs": []
    },
    {
      "cell_type": "code",
      "metadata": {
        "id": "cl6OInjJ0E_z"
      },
      "source": [
        "with open('dataset.txt','rt') as file:\n",
        "  for line in file.readlines():\n",
        "    match=re.findall(pattern,line)\n",
        "    if match:\n",
        "      name,line=match[0]\n",
        "      data['name'].append(name)\n",
        "      data['line'].append(line)"
      ],
      "execution_count": null,
      "outputs": []
    },
    {
      "cell_type": "code",
      "metadata": {
        "id": "nJlWL1lH0m-M"
      },
      "source": [
        "df=pd.DataFrame(data)\n"
      ],
      "execution_count": null,
      "outputs": []
    },
    {
      "cell_type": "code",
      "metadata": {
        "colab": {
          "base_uri": "https://localhost:8080/",
          "height": 203
        },
        "id": "LfEy44E90-xM",
        "outputId": "c5d9430a-51ba-4fde-ff37-ba7c68db1713"
      },
      "source": [
        "df.head()"
      ],
      "execution_count": null,
      "outputs": [
        {
          "output_type": "execute_result",
          "data": {
            "text/html": [
              "<div>\n",
              "<style scoped>\n",
              "    .dataframe tbody tr th:only-of-type {\n",
              "        vertical-align: middle;\n",
              "    }\n",
              "\n",
              "    .dataframe tbody tr th {\n",
              "        vertical-align: top;\n",
              "    }\n",
              "\n",
              "    .dataframe thead th {\n",
              "        text-align: right;\n",
              "    }\n",
              "</style>\n",
              "<table border=\"1\" class=\"dataframe\">\n",
              "  <thead>\n",
              "    <tr style=\"text-align: right;\">\n",
              "      <th></th>\n",
              "      <th>name</th>\n",
              "      <th>line</th>\n",
              "    </tr>\n",
              "  </thead>\n",
              "  <tbody>\n",
              "    <tr>\n",
              "      <th>0</th>\n",
              "      <td>Peppa Pig</td>\n",
              "      <td>I'm Peppa Pig.</td>\n",
              "    </tr>\n",
              "    <tr>\n",
              "      <th>1</th>\n",
              "      <td>Peppa Pig</td>\n",
              "      <td>is my little brother George.</td>\n",
              "    </tr>\n",
              "    <tr>\n",
              "      <th>2</th>\n",
              "      <td>George</td>\n",
              "      <td>*oinks*</td>\n",
              "    </tr>\n",
              "    <tr>\n",
              "      <th>3</th>\n",
              "      <td>Peppa Pig</td>\n",
              "      <td>This is Mummy Pig.</td>\n",
              "    </tr>\n",
              "    <tr>\n",
              "      <th>4</th>\n",
              "      <td>Mummy Pig</td>\n",
              "      <td>*oinks*</td>\n",
              "    </tr>\n",
              "  </tbody>\n",
              "</table>\n",
              "</div>"
            ],
            "text/plain": [
              "        name                           line\n",
              "0  Peppa Pig                 I'm Peppa Pig.\n",
              "1  Peppa Pig   is my little brother George.\n",
              "2     George                        *oinks*\n",
              "3  Peppa Pig             This is Mummy Pig.\n",
              "4  Mummy Pig                        *oinks*"
            ]
          },
          "metadata": {},
          "execution_count": 19
        }
      ]
    },
    {
      "cell_type": "code",
      "metadata": {
        "colab": {
          "base_uri": "https://localhost:8080/"
        },
        "id": "EjE_ZHeX1Rdw",
        "outputId": "adc84036-051a-40df-b661-0c0fa94ae066"
      },
      "source": [
        "sum(df['name']=='Peppa Pig')"
      ],
      "execution_count": null,
      "outputs": [
        {
          "output_type": "execute_result",
          "data": {
            "text/plain": [
              "25"
            ]
          },
          "metadata": {},
          "execution_count": 20
        }
      ]
    },
    {
      "cell_type": "code",
      "metadata": {
        "colab": {
          "base_uri": "https://localhost:8080/"
        },
        "id": "spVKFd_m1a0P",
        "outputId": "092b9705-ee7b-42fb-c189-ca01aa47872b"
      },
      "source": [
        "len(df)"
      ],
      "execution_count": null,
      "outputs": [
        {
          "output_type": "execute_result",
          "data": {
            "text/plain": [
              "60"
            ]
          },
          "metadata": {},
          "execution_count": 21
        }
      ]
    },
    {
      "cell_type": "code",
      "metadata": {
        "id": "shdpXI4T11X8"
      },
      "source": [
        "df.to_csv('Peppa_Pig.csv',index=False)"
      ],
      "execution_count": null,
      "outputs": []
    }
  ]
}